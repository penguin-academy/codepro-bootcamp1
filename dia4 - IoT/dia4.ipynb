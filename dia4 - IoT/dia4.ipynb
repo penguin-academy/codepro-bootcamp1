{
 "cells": [
  {
   "cell_type": "code",
   "execution_count": null,
   "metadata": {},
   "outputs": [],
   "source": [
    "# Variables y tipos de datos asociados\n",
    "\n",
    "led_rojo = True\n",
    "led_verde = 1\n",
    "led_amarillo = 'SI'\n",
    "\n",
    "contador = 0\n",
    "\n",
    "# Condicionales\n",
    "\n",
    "if led_rojo == True:\n",
    "\n",
    "    print('El led rojo esta prendido.')\n",
    "\n",
    "else:\n",
    "\n",
    "    print('El led rojo esta apagado')\n",
    "\n",
    "for i in range(4):\n",
    "\n",
    "    print('Bienvenidos al taller de IoT.')\n",
    "\n",
    "# while contador < 3:\n",
    "    \n",
    "#     print('Bienvenidos al taller de IoT.')\n",
    "#     contador += 1\n",
    "\n",
    "def verificar_led():\n",
    "\n",
    "    if led_rojo == True:\n",
    "\n",
    "        print('El led rojo esta prendido.')\n",
    "\n",
    "    else:\n",
    "\n",
    "        print('El led rojo esta apagado.')\n",
    "\n",
    "lista_frutas = ['banana', 'manzana', 'pera']\n",
    "\n",
    "lista_frutas.append('kiwi')\n",
    "\n",
    "lista_frutas.pop()\n",
    "\n",
    "print(len(lista_frutas))"
   ]
  }
 ],
 "metadata": {
  "kernelspec": {
   "display_name": "Python 3",
   "language": "python",
   "name": "python3"
  },
  "language_info": {
   "codemirror_mode": {
    "name": "ipython",
    "version": 3
   },
   "file_extension": ".py",
   "mimetype": "text/x-python",
   "name": "python",
   "nbconvert_exporter": "python",
   "pygments_lexer": "ipython3",
   "version": "3.12.3"
  }
 },
 "nbformat": 4,
 "nbformat_minor": 2
}
